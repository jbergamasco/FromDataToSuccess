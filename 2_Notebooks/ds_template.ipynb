{
 "cells": [
  {
   "cell_type": "markdown",
   "id": "e9a30c61",
   "metadata": {},
   "source": [
    "<hr>\n",
    "<p style=\"font-size:48px;text-align:center\">Title</p>\n",
    "<p style=\"font-size:28px;text-align:center\"><i>Subtitle</i></p>\n",
    "<hr>"
   ]
  },
  {
   "cell_type": "markdown",
   "id": "e400d53c",
   "metadata": {
    "ExecuteTime": {
     "end_time": "2022-01-06T14:49:53.164618Z",
     "start_time": "2022-01-06T14:49:53.159276Z"
    }
   },
   "source": [
    "**Main goal:**\n",
    "\n",
    "Description of the main goal of this notebook.\n",
    "\n",
    "---\n",
    "\n",
    "**Inputs:**\n",
    "- Input Data: `/path/to/input/data.csv`\n",
    "\n",
    "**Outputs:**\n",
    "- Output Data: `/path/to/output/data.csv`"
   ]
  },
  {
   "cell_type": "markdown",
   "id": "ce7d509b",
   "metadata": {},
   "source": [
    "# Imports"
   ]
  },
  {
   "cell_type": "code",
   "execution_count": 1,
   "id": "616c752a-3879-41c6-9c4f-ec4ecae7813f",
   "metadata": {},
   "outputs": [],
   "source": [
    "import numpy as np\n",
    "import pandas as pd\n",
    "import plotly.express as px"
   ]
  },
  {
   "cell_type": "markdown",
   "id": "28f3bb95",
   "metadata": {
    "tags": []
   },
   "source": [
    "# Definitions"
   ]
  },
  {
   "cell_type": "markdown",
   "id": "a0c5a54d",
   "metadata": {},
   "source": [
    "## Parameters"
   ]
  },
  {
   "cell_type": "markdown",
   "id": "50887a40",
   "metadata": {},
   "source": [
    "All constants that satisfies any of this criteria should be defined here:\n",
    "- Defines where the input data is taken from\n",
    "- Defines where the output data is saved to\n",
    "- Might need to be changed on future runs of this notebook\n",
    "- Are super important to keep in mind as they fundamentally affect the calculations\n",
    "\n",
    "Examples:\n",
    "- Input/Output directories\n",
    "- Input filenames"
   ]
  },
  {
   "cell_type": "code",
   "execution_count": 2,
   "id": "4f2c6937-f6e5-4799-9cff-a329693c7689",
   "metadata": {},
   "outputs": [],
   "source": [
    "INPUT_LOCAL_PATH = \"/path/to/input/data.csv\""
   ]
  },
  {
   "cell_type": "markdown",
   "id": "91daa430",
   "metadata": {},
   "source": [
    "## Functions"
   ]
  },
  {
   "cell_type": "markdown",
   "id": "83f38291",
   "metadata": {
    "tags": []
   },
   "source": [
    "# Read Data"
   ]
  },
  {
   "cell_type": "code",
   "execution_count": 3,
   "id": "1e2e6497-48ef-45fd-b36c-30a442f326e3",
   "metadata": {},
   "outputs": [],
   "source": [
    "# df = pd.read_parquet(INPUT_LOCAL_PATH)\n",
    "# df = pd.read_csv(INPUT_LOCAL_PATH)"
   ]
  },
  {
   "cell_type": "markdown",
   "id": "69011c9a",
   "metadata": {},
   "source": [
    "# Any New Section Needed"
   ]
  }
 ],
 "metadata": {
  "kernelspec": {
   "display_name": "Python 3 (ipykernel)",
   "language": "python",
   "name": "python3"
  },
  "language_info": {
   "codemirror_mode": {
    "name": "ipython",
    "version": 3
   },
   "file_extension": ".py",
   "mimetype": "text/x-python",
   "name": "python",
   "nbconvert_exporter": "python",
   "pygments_lexer": "ipython3",
   "version": "3.8.16"
  },
  "toc": {
   "base_numbering": "0",
   "nav_menu": {},
   "number_sections": true,
   "sideBar": true,
   "skip_h1_title": false,
   "title_cell": "Table of Contents",
   "title_sidebar": "Contents",
   "toc_cell": false,
   "toc_position": {},
   "toc_section_display": true,
   "toc_window_display": true
  }
 },
 "nbformat": 4,
 "nbformat_minor": 5
}
